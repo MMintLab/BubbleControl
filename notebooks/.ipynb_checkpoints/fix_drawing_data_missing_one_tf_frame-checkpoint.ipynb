{
 "cells": [
  {
   "cell_type": "code",
   "execution_count": 7,
   "id": "530483fb",
   "metadata": {},
   "outputs": [],
   "source": [
    "import numpy as np\n",
    "import os\n",
    "import pandas as pd\n",
    "import tf.transformations as tr\n",
    "from tqdm import tqdm"
   ]
  },
  {
   "cell_type": "code",
   "execution_count": 4,
   "id": "bdc86ff7",
   "metadata": {},
   "outputs": [],
   "source": [
    "path_to_tfs = '/home/mik/Desktop/drawing_data_one_direction/blue_marker/tfs'\n",
    "\n",
    "file_names = [f for f in os.listdir(path_to_tfs) if os.path.isfile(os.path.join(path_to_tfs, f))]"
   ]
  },
  {
   "cell_type": "code",
   "execution_count": 10,
   "id": "1963bff0",
   "metadata": {},
   "outputs": [],
   "source": [
    "def df_to_tfs(all_tfs):\n",
    "    converted_all_tfs = {}\n",
    "    parent_frame = all_tfs['parent_frame'][0] # Assume that are all teh same\n",
    "    child_frames = all_tfs['child_frame']\n",
    "    converted_all_tfs[parent_frame] = np.eye(4) # Transformation to itself is the identity\n",
    "    all_poses = all_tfs[['x','y','z','qx','qy','qz','qw']]\n",
    "    for i, child_frame_i in enumerate(child_frames):\n",
    "        pose_i = all_poses.iloc[i]\n",
    "        X_i = tr.quaternion_matrix(pose_i[3:])\n",
    "        X_i[:3,3] = pose_i[:3]\n",
    "        converted_all_tfs[child_frame_i] = X_i\n",
    "    return converted_all_tfs"
   ]
  },
  {
   "cell_type": "code",
   "execution_count": 18,
   "id": "4281cf85",
   "metadata": {},
   "outputs": [],
   "source": [
    "def get_transformation_matrix(all_tfs, source_frame, target_frame):\n",
    "    w_X_sf = all_tfs[source_frame]\n",
    "    w_X_tf = all_tfs[target_frame]\n",
    "    sf_X_w = np.linalg.inv(w_X_sf)\n",
    "    sf_X_tf = sf_X_w @ w_X_tf\n",
    "    return sf_X_tf"
   ]
  },
  {
   "cell_type": "code",
   "execution_count": 19,
   "id": "03f42222",
   "metadata": {},
   "outputs": [],
   "source": [
    "def pose_to_X(pose):\n",
    "    pos = pose[:3]\n",
    "    quat = pose[3:]\n",
    "    X = tr.quaternion_matrix(quat)\n",
    "    X[:3,3] = pos\n",
    "    return X\n",
    "\n",
    "def X_to_pose(X):\n",
    "    pos = X[:3,3]\n",
    "    quat = tr.quaternion_from_matrix(X)\n",
    "    pose = np.concatenate([pos, quat])\n",
    "    return pose"
   ]
  },
  {
   "cell_type": "code",
   "execution_count": 29,
   "id": "64089cf4",
   "metadata": {},
   "outputs": [
    {
     "name": "stderr",
     "output_type": "stream",
     "text": [
      "100%|████████████████████████████████| 1471/1471 [00:04<00:00, 366.28it/s]\n"
     ]
    }
   ],
   "source": [
    "for fn in tqdm(file_names):\n",
    "    path_file_i = os.path.join(path_to_tfs, fn)\n",
    "    df_i = pd.read_csv(path_file_i)\n",
    "    all_tfs_i = df_to_tfs(df_i)\n",
    "    # compute the missing tf\n",
    "    w_X_gf = all_tfs_i['grasp_frame']\n",
    "    gf_X_fl = get_transformation_matrix(all_tfs_i, 'grasp_frame', 'wsg50_finger_left')\n",
    "    current_half_width = -gf_X_fl[...,0,3]-0.009\n",
    "    gf_pose_fr_zero_gw = np.array([0.009, 0, -0.105, 0, 0, 1, 0])\n",
    "    gf_X_fr_zero_gw = pose_to_X(gf_pose_fr_zero_gw)\n",
    "    fr_X_fr_new = np.eye(4)\n",
    "    fr_X_fr_new[0,3] = -current_half_width  # translation along -x\n",
    "    gf_X_fr = gf_X_fr_zero_gw @ fr_X_fr_new\n",
    "    w_X_fr = w_X_gf @ gf_X_fr\n",
    "    fr_pose = X_to_pose(w_X_fr)\n",
    "    df_to_add = pd.DataFrame([['med_base', 'wsg50_finger_right'] + list(fr_pose)], columns=df_i.columns)\n",
    "    updated_df = df_i.append(df_to_add)\n",
    "    updated_df.to_csv(path_file_i, index=False) # Overwrite the file\n",
    "    \n",
    "    \n",
    "    "
   ]
  },
  {
   "cell_type": "code",
   "execution_count": 26,
   "id": "9c0319e5",
   "metadata": {},
   "outputs": [
    {
     "data": {
      "text/html": [
       "<div>\n",
       "<style scoped>\n",
       "    .dataframe tbody tr th:only-of-type {\n",
       "        vertical-align: middle;\n",
       "    }\n",
       "\n",
       "    .dataframe tbody tr th {\n",
       "        vertical-align: top;\n",
       "    }\n",
       "\n",
       "    .dataframe thead th {\n",
       "        text-align: right;\n",
       "    }\n",
       "</style>\n",
       "<table border=\"1\" class=\"dataframe\">\n",
       "  <thead>\n",
       "    <tr style=\"text-align: right;\">\n",
       "      <th></th>\n",
       "      <th>parent_frame</th>\n",
       "      <th>child_frame</th>\n",
       "      <th>x</th>\n",
       "      <th>y</th>\n",
       "      <th>z</th>\n",
       "      <th>qx</th>\n",
       "      <th>qy</th>\n",
       "      <th>qz</th>\n",
       "      <th>qw</th>\n",
       "    </tr>\n",
       "  </thead>\n",
       "  <tbody>\n",
       "    <tr>\n",
       "      <th>0</th>\n",
       "      <td>med_base</td>\n",
       "      <td>grasp_frame</td>\n",
       "      <td>0.634863</td>\n",
       "      <td>0.183552</td>\n",
       "      <td>0.102341</td>\n",
       "      <td>-0.845579</td>\n",
       "      <td>0.533172</td>\n",
       "      <td>0.024368</td>\n",
       "      <td>-0.011424</td>\n",
       "    </tr>\n",
       "    <tr>\n",
       "      <th>1</th>\n",
       "      <td>med_base</td>\n",
       "      <td>med_kuka_link_ee</td>\n",
       "      <td>0.645755</td>\n",
       "      <td>0.182193</td>\n",
       "      <td>0.306046</td>\n",
       "      <td>-0.220903</td>\n",
       "      <td>0.974924</td>\n",
       "      <td>0.009152</td>\n",
       "      <td>-0.025309</td>\n",
       "    </tr>\n",
       "    <tr>\n",
       "      <th>2</th>\n",
       "      <td>med_base</td>\n",
       "      <td>wsg50_finger_left</td>\n",
       "      <td>0.632061</td>\n",
       "      <td>0.200485</td>\n",
       "      <td>0.207756</td>\n",
       "      <td>-0.845579</td>\n",
       "      <td>0.533172</td>\n",
       "      <td>0.024368</td>\n",
       "      <td>-0.011424</td>\n",
       "    </tr>\n",
       "    <tr>\n",
       "      <th>3</th>\n",
       "      <td>med_base</td>\n",
       "      <td>pico_flexx_left_link</td>\n",
       "      <td>0.604876</td>\n",
       "      <td>0.252132</td>\n",
       "      <td>0.158595</td>\n",
       "      <td>-0.719599</td>\n",
       "      <td>0.069557</td>\n",
       "      <td>-0.591591</td>\n",
       "      <td>0.356874</td>\n",
       "    </tr>\n",
       "    <tr>\n",
       "      <th>4</th>\n",
       "      <td>med_base</td>\n",
       "      <td>pico_flexx_left_optical_frame</td>\n",
       "      <td>0.604876</td>\n",
       "      <td>0.252132</td>\n",
       "      <td>0.158595</td>\n",
       "      <td>-0.761181</td>\n",
       "      <td>0.467503</td>\n",
       "      <td>-0.369134</td>\n",
       "      <td>-0.256485</td>\n",
       "    </tr>\n",
       "    <tr>\n",
       "      <th>5</th>\n",
       "      <td>med_base</td>\n",
       "      <td>pico_flexx_right_link</td>\n",
       "      <td>0.670630</td>\n",
       "      <td>0.114251</td>\n",
       "      <td>0.154159</td>\n",
       "      <td>0.046459</td>\n",
       "      <td>0.689349</td>\n",
       "      <td>-0.355276</td>\n",
       "      <td>-0.629618</td>\n",
       "    </tr>\n",
       "    <tr>\n",
       "      <th>6</th>\n",
       "      <td>med_base</td>\n",
       "      <td>pico_flexx_right_optical_frame</td>\n",
       "      <td>0.670630</td>\n",
       "      <td>0.114251</td>\n",
       "      <td>0.154159</td>\n",
       "      <td>0.478059</td>\n",
       "      <td>0.738661</td>\n",
       "      <td>0.236225</td>\n",
       "      <td>-0.412356</td>\n",
       "    </tr>\n",
       "    <tr>\n",
       "      <th>0</th>\n",
       "      <td>med_base</td>\n",
       "      <td>wsg50_finger_right</td>\n",
       "      <td>0.648878</td>\n",
       "      <td>0.165221</td>\n",
       "      <td>0.206622</td>\n",
       "      <td>0.533172</td>\n",
       "      <td>0.845579</td>\n",
       "      <td>-0.011424</td>\n",
       "      <td>-0.024368</td>\n",
       "    </tr>\n",
       "  </tbody>\n",
       "</table>\n",
       "</div>"
      ],
      "text/plain": [
       "  parent_frame                     child_frame         x         y         z  \\\n",
       "0     med_base                     grasp_frame  0.634863  0.183552  0.102341   \n",
       "1     med_base                med_kuka_link_ee  0.645755  0.182193  0.306046   \n",
       "2     med_base               wsg50_finger_left  0.632061  0.200485  0.207756   \n",
       "3     med_base            pico_flexx_left_link  0.604876  0.252132  0.158595   \n",
       "4     med_base   pico_flexx_left_optical_frame  0.604876  0.252132  0.158595   \n",
       "5     med_base           pico_flexx_right_link  0.670630  0.114251  0.154159   \n",
       "6     med_base  pico_flexx_right_optical_frame  0.670630  0.114251  0.154159   \n",
       "0     med_base              wsg50_finger_right  0.648878  0.165221  0.206622   \n",
       "\n",
       "         qx        qy        qz        qw  \n",
       "0 -0.845579  0.533172  0.024368 -0.011424  \n",
       "1 -0.220903  0.974924  0.009152 -0.025309  \n",
       "2 -0.845579  0.533172  0.024368 -0.011424  \n",
       "3 -0.719599  0.069557 -0.591591  0.356874  \n",
       "4 -0.761181  0.467503 -0.369134 -0.256485  \n",
       "5  0.046459  0.689349 -0.355276 -0.629618  \n",
       "6  0.478059  0.738661  0.236225 -0.412356  \n",
       "0  0.533172  0.845579 -0.011424 -0.024368  "
      ]
     },
     "execution_count": 26,
     "metadata": {},
     "output_type": "execute_result"
    }
   ],
   "source": [
    "updated_df"
   ]
  },
  {
   "cell_type": "code",
   "execution_count": 24,
   "id": "a4bb6cbe",
   "metadata": {},
   "outputs": [
    {
     "data": {
      "text/plain": [
       "Index(['parent_frame', 'child_frame', 'x', 'y', 'z', 'qx', 'qy', 'qz', 'qw'], dtype='object')"
      ]
     },
     "execution_count": 24,
     "metadata": {},
     "output_type": "execute_result"
    }
   ],
   "source": [
    "df_i.columns"
   ]
  },
  {
   "cell_type": "code",
   "execution_count": null,
   "id": "bb8db638",
   "metadata": {},
   "outputs": [],
   "source": []
  }
 ],
 "metadata": {
  "kernelspec": {
   "display_name": "Python 3 (ipykernel)",
   "language": "python",
   "name": "python3"
  },
  "language_info": {
   "codemirror_mode": {
    "name": "ipython",
    "version": 3
   },
   "file_extension": ".py",
   "mimetype": "text/x-python",
   "name": "python",
   "nbconvert_exporter": "python",
   "pygments_lexer": "ipython3",
   "version": "3.8.5"
  }
 },
 "nbformat": 4,
 "nbformat_minor": 5
}
