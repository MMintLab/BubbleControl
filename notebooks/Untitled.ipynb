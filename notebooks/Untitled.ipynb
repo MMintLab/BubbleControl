{
 "cells": [
  {
   "cell_type": "code",
   "execution_count": 1,
   "metadata": {},
   "outputs": [],
   "source": [
    "import os\n",
    "import open3d as o3d\n",
    "import numpy as np\n",
    "import sys"
   ]
  },
  {
   "cell_type": "code",
   "execution_count": 2,
   "metadata": {},
   "outputs": [],
   "source": [
    "data_path = '/Users/mik/Desktop/bubble_files/data/drawing_data/drawing_data_test/pico_flexx_right'\n"
   ]
  },
  {
   "cell_type": "code",
   "execution_count": 3,
   "metadata": {},
   "outputs": [],
   "source": [
    "img_1 = np.load(os.path.join(data_path, 'depth_data', 'drawing_data_test_depth_000001.npy'))"
   ]
  },
  {
   "cell_type": "code",
   "execution_count": 7,
   "metadata": {},
   "outputs": [],
   "source": [
    "def load_pointcloud(pc_path, as_array=False):\n",
    "    \"\"\"\n",
    "    Load a pointcloud as a (N,6) array\n",
    "    Args:\n",
    "        pc_path: path to the file containint the pointcloud\n",
    "\n",
    "    Returns: <np.ndarray> of size (N,6)\n",
    "    \"\"\"\n",
    "    pcd = o3d.io.read_point_cloud(pc_path)\n",
    "    pc_out = pcd\n",
    "    if as_array:\n",
    "        pc_out = unpack_o3d_pcd(pcd)\n",
    "    return pc_out\n",
    "\n",
    "def view_pointcloud(pc, frame=False):\n",
    "    \"\"\"\n",
    "    Simple visualization of pointclouds\n",
    "    Args:\n",
    "        pc: pointcloud array or a list of pointcloud arrays\n",
    "\n",
    "    Returns:\n",
    "\n",
    "    \"\"\"\n",
    "    pcds = []\n",
    "    if type(pc) is not list:\n",
    "        pc = [pc]\n",
    "    for pc_i in pc:\n",
    "        if not isinstance(pc_i, o3d.cpu.pybind.geometry.PointCloud):\n",
    "            pcd_i = pack_o3d_pcd(pc_i)\n",
    "        else:\n",
    "            pcd_i = pc_i\n",
    "        pcds.append(pcd_i)\n",
    "    first_pcd = pcds[0]\n",
    "    first_points = np.asarray(first_pcd.points)\n",
    "    if frame:\n",
    "        mesh_frame = o3d.geometry.TriangleMesh.create_coordinate_frame(size=0.5*np.std(first_points), origin=[0, 0, 0])\n",
    "        pcds.append(mesh_frame)\n",
    "    o3d.visualization.draw_geometries(pcds)"
   ]
  },
  {
   "cell_type": "code",
   "execution_count": 8,
   "metadata": {},
   "outputs": [],
   "source": [
    "pc1_path = os.path.join(data_path, 'point_cloud_data', 'drawing_data_test_pc_000001.ply')\n",
    "pc2_path = os.path.join(data_path, 'point_cloud_data', 'drawing_data_test_pc_000002.ply')\n",
    "\n",
    "pc1 = load_pointcloud(pc1_path)\n",
    "pc2 = load_pointcloud(pc2_path)"
   ]
  },
  {
   "cell_type": "code",
   "execution_count": 9,
   "metadata": {},
   "outputs": [
    {
     "ename": "AttributeError",
     "evalue": "module 'open3d' has no attribute 'cpu'",
     "output_type": "error",
     "traceback": [
      "\u001b[0;31m---------------------------------------------------------------------------\u001b[0m",
      "\u001b[0;31mAttributeError\u001b[0m                            Traceback (most recent call last)",
      "\u001b[0;32m<ipython-input-9-09bd3a98b444>\u001b[0m in \u001b[0;36m<module>\u001b[0;34m\u001b[0m\n\u001b[0;32m----> 1\u001b[0;31m \u001b[0mview_pointcloud\u001b[0m\u001b[0;34m(\u001b[0m\u001b[0;34m[\u001b[0m\u001b[0mpc1\u001b[0m\u001b[0;34m,\u001b[0m \u001b[0mpc2\u001b[0m\u001b[0;34m]\u001b[0m\u001b[0;34m,\u001b[0m \u001b[0mframe\u001b[0m\u001b[0;34m=\u001b[0m\u001b[0;32mTrue\u001b[0m\u001b[0;34m)\u001b[0m\u001b[0;34m\u001b[0m\u001b[0;34m\u001b[0m\u001b[0m\n\u001b[0m",
      "\u001b[0;32m<ipython-input-7-86d3c2d28e91>\u001b[0m in \u001b[0;36mview_pointcloud\u001b[0;34m(pc, frame)\u001b[0m\n\u001b[1;32m     26\u001b[0m         \u001b[0mpc\u001b[0m \u001b[0;34m=\u001b[0m \u001b[0;34m[\u001b[0m\u001b[0mpc\u001b[0m\u001b[0;34m]\u001b[0m\u001b[0;34m\u001b[0m\u001b[0;34m\u001b[0m\u001b[0m\n\u001b[1;32m     27\u001b[0m     \u001b[0;32mfor\u001b[0m \u001b[0mpc_i\u001b[0m \u001b[0;32min\u001b[0m \u001b[0mpc\u001b[0m\u001b[0;34m:\u001b[0m\u001b[0;34m\u001b[0m\u001b[0;34m\u001b[0m\u001b[0m\n\u001b[0;32m---> 28\u001b[0;31m         \u001b[0;32mif\u001b[0m \u001b[0;32mnot\u001b[0m \u001b[0misinstance\u001b[0m\u001b[0;34m(\u001b[0m\u001b[0mpc_i\u001b[0m\u001b[0;34m,\u001b[0m \u001b[0mo3d\u001b[0m\u001b[0;34m.\u001b[0m\u001b[0mcpu\u001b[0m\u001b[0;34m.\u001b[0m\u001b[0mpybind\u001b[0m\u001b[0;34m.\u001b[0m\u001b[0mgeometry\u001b[0m\u001b[0;34m.\u001b[0m\u001b[0mPointCloud\u001b[0m\u001b[0;34m)\u001b[0m\u001b[0;34m:\u001b[0m\u001b[0;34m\u001b[0m\u001b[0;34m\u001b[0m\u001b[0m\n\u001b[0m\u001b[1;32m     29\u001b[0m             \u001b[0mpcd_i\u001b[0m \u001b[0;34m=\u001b[0m \u001b[0mpack_o3d_pcd\u001b[0m\u001b[0;34m(\u001b[0m\u001b[0mpc_i\u001b[0m\u001b[0;34m)\u001b[0m\u001b[0;34m\u001b[0m\u001b[0;34m\u001b[0m\u001b[0m\n\u001b[1;32m     30\u001b[0m         \u001b[0;32melse\u001b[0m\u001b[0;34m:\u001b[0m\u001b[0;34m\u001b[0m\u001b[0;34m\u001b[0m\u001b[0m\n",
      "\u001b[0;31mAttributeError\u001b[0m: module 'open3d' has no attribute 'cpu'"
     ]
    }
   ],
   "source": [
    "view_pointcloud([pc1, pc2], frame=True)"
   ]
  },
  {
   "cell_type": "code",
   "execution_count": null,
   "metadata": {},
   "outputs": [],
   "source": [
    "XZ"
   ]
  }
 ],
 "metadata": {
  "kernelspec": {
   "display_name": "Python 3",
   "language": "python",
   "name": "python3"
  },
  "language_info": {
   "codemirror_mode": {
    "name": "ipython",
    "version": 3
   },
   "file_extension": ".py",
   "mimetype": "text/x-python",
   "name": "python",
   "nbconvert_exporter": "python",
   "pygments_lexer": "ipython3",
   "version": "3.8.5"
  }
 },
 "nbformat": 4,
 "nbformat_minor": 4
}
